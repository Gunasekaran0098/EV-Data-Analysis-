{
 "cells": [
  {
   "cell_type": "markdown",
   "id": "8506db07-9e08-45f4-bd73-c4cad67c2bda",
   "metadata": {},
   "source": [
    "# 🚗 Electric Vehicle Data Analysis  \n",
    "Name: Gunasekaran\n",
    "Date: 29-06-2025\n",
    "Course: Data Analysis"
   ]
  },
  {
   "cell_type": "markdown",
   "id": "49f02f15-d523-4b9b-907e-47370c300b0e",
   "metadata": {},
   "source": [
    "## Introduction\n",
    "\n",
    "This analysis explores electric vehicle (EV) registration data from the Washington State Department of Licensing. The dataset includes details such as vehicle make, model, electric range, MSRP, location, and eligibility for clean energy incentives. \n",
    "\n",
    "The goal is to:\n",
    "- Clean and prepare the data for analysis\n",
    "- Explore patterns and trends in EV adoption\n",
    "- Visualize insights using charts and maps\n",
    "- Build a regression model to predict electric range based on vehicle features\n"
   ]
  },
  {
   "cell_type": "markdown",
   "id": "3fd369bd-4341-4a64-ba14-40421769ac3e",
   "metadata": {},
   "source": [
    "##  Section 1: Data Cleaning\n",
    "\n",
    "This section handles:\n",
    "- Missing values\n",
    "- Removing zero MSRP or Electric Range\n",
    "- Dropping duplicates\n",
    "- Cleaning GPS data\n",
    "- Anonymizing VINs\n"
   ]
  },
  {
   "cell_type": "code",
   "execution_count": 103,
   "id": "166d49c7-ead7-4e4b-b580-bc36dd04ecb9",
   "metadata": {},
   "outputs": [
    {
     "data": {
      "text/html": [
       "<div>\n",
       "<style scoped>\n",
       "    .dataframe tbody tr th:only-of-type {\n",
       "        vertical-align: middle;\n",
       "    }\n",
       "\n",
       "    .dataframe tbody tr th {\n",
       "        vertical-align: top;\n",
       "    }\n",
       "\n",
       "    .dataframe thead th {\n",
       "        text-align: right;\n",
       "    }\n",
       "</style>\n",
       "<table border=\"1\" class=\"dataframe\">\n",
       "  <thead>\n",
       "    <tr style=\"text-align: right;\">\n",
       "      <th></th>\n",
       "      <th>VIN (1-10)</th>\n",
       "      <th>County</th>\n",
       "      <th>City</th>\n",
       "      <th>State</th>\n",
       "      <th>Postal Code</th>\n",
       "      <th>Model Year</th>\n",
       "      <th>Make</th>\n",
       "      <th>Model</th>\n",
       "      <th>Electric Vehicle Type</th>\n",
       "      <th>Clean Alternative Fuel Vehicle (CAFV) Eligibility</th>\n",
       "      <th>Electric Range</th>\n",
       "      <th>Base MSRP</th>\n",
       "      <th>Legislative District</th>\n",
       "      <th>DOL Vehicle ID</th>\n",
       "      <th>Vehicle Location</th>\n",
       "      <th>Electric Utility</th>\n",
       "      <th>2020 Census Tract</th>\n",
       "    </tr>\n",
       "  </thead>\n",
       "  <tbody>\n",
       "    <tr>\n",
       "      <th>0</th>\n",
       "      <td>1N4BZ0CP5G</td>\n",
       "      <td>King</td>\n",
       "      <td>Seattle</td>\n",
       "      <td>WA</td>\n",
       "      <td>98125.0</td>\n",
       "      <td>2016</td>\n",
       "      <td>NISSAN</td>\n",
       "      <td>LEAF</td>\n",
       "      <td>Battery Electric Vehicle (BEV)</td>\n",
       "      <td>Clean Alternative Fuel Vehicle Eligible</td>\n",
       "      <td>84.0</td>\n",
       "      <td>0.0</td>\n",
       "      <td>46.0</td>\n",
       "      <td>349455557</td>\n",
       "      <td>POINT (-122.30253 47.72656)</td>\n",
       "      <td>CITY OF SEATTLE - (WA)|CITY OF TACOMA - (WA)</td>\n",
       "      <td>5.303300e+10</td>\n",
       "    </tr>\n",
       "    <tr>\n",
       "      <th>1</th>\n",
       "      <td>KNDJX3AEXG</td>\n",
       "      <td>King</td>\n",
       "      <td>Renton</td>\n",
       "      <td>WA</td>\n",
       "      <td>98058.0</td>\n",
       "      <td>2016</td>\n",
       "      <td>KIA</td>\n",
       "      <td>SOUL</td>\n",
       "      <td>Battery Electric Vehicle (BEV)</td>\n",
       "      <td>Clean Alternative Fuel Vehicle Eligible</td>\n",
       "      <td>93.0</td>\n",
       "      <td>31950.0</td>\n",
       "      <td>11.0</td>\n",
       "      <td>210641315</td>\n",
       "      <td>POINT (-122.08747 47.4466)</td>\n",
       "      <td>PUGET SOUND ENERGY INC||CITY OF TACOMA - (WA)</td>\n",
       "      <td>5.303303e+10</td>\n",
       "    </tr>\n",
       "    <tr>\n",
       "      <th>2</th>\n",
       "      <td>5YJ3E1EB2J</td>\n",
       "      <td>King</td>\n",
       "      <td>Seattle</td>\n",
       "      <td>WA</td>\n",
       "      <td>98115.0</td>\n",
       "      <td>2018</td>\n",
       "      <td>TESLA</td>\n",
       "      <td>MODEL 3</td>\n",
       "      <td>Battery Electric Vehicle (BEV)</td>\n",
       "      <td>Clean Alternative Fuel Vehicle Eligible</td>\n",
       "      <td>215.0</td>\n",
       "      <td>0.0</td>\n",
       "      <td>43.0</td>\n",
       "      <td>171417494</td>\n",
       "      <td>POINT (-122.31676 47.68156)</td>\n",
       "      <td>CITY OF SEATTLE - (WA)|CITY OF TACOMA - (WA)</td>\n",
       "      <td>5.303300e+10</td>\n",
       "    </tr>\n",
       "    <tr>\n",
       "      <th>3</th>\n",
       "      <td>1C4RJXN64R</td>\n",
       "      <td>Kitsap</td>\n",
       "      <td>Bremerton</td>\n",
       "      <td>WA</td>\n",
       "      <td>98312.0</td>\n",
       "      <td>2024</td>\n",
       "      <td>JEEP</td>\n",
       "      <td>WRANGLER</td>\n",
       "      <td>Plug-in Hybrid Electric Vehicle (PHEV)</td>\n",
       "      <td>Not eligible due to low battery range</td>\n",
       "      <td>21.0</td>\n",
       "      <td>0.0</td>\n",
       "      <td>26.0</td>\n",
       "      <td>262542927</td>\n",
       "      <td>POINT (-122.65223 47.57192)</td>\n",
       "      <td>PUGET SOUND ENERGY INC</td>\n",
       "      <td>5.303508e+10</td>\n",
       "    </tr>\n",
       "    <tr>\n",
       "      <th>4</th>\n",
       "      <td>5YJ3E1EB1J</td>\n",
       "      <td>Thurston</td>\n",
       "      <td>Olympia</td>\n",
       "      <td>WA</td>\n",
       "      <td>98512.0</td>\n",
       "      <td>2018</td>\n",
       "      <td>TESLA</td>\n",
       "      <td>MODEL 3</td>\n",
       "      <td>Battery Electric Vehicle (BEV)</td>\n",
       "      <td>Clean Alternative Fuel Vehicle Eligible</td>\n",
       "      <td>215.0</td>\n",
       "      <td>0.0</td>\n",
       "      <td>35.0</td>\n",
       "      <td>110432815</td>\n",
       "      <td>POINT (-122.9131 47.01359)</td>\n",
       "      <td>PUGET SOUND ENERGY INC</td>\n",
       "      <td>5.306701e+10</td>\n",
       "    </tr>\n",
       "  </tbody>\n",
       "</table>\n",
       "</div>"
      ],
      "text/plain": [
       "   VIN (1-10)    County       City State  Postal Code  Model Year    Make  \\\n",
       "0  1N4BZ0CP5G      King    Seattle    WA      98125.0        2016  NISSAN   \n",
       "1  KNDJX3AEXG      King     Renton    WA      98058.0        2016     KIA   \n",
       "2  5YJ3E1EB2J      King    Seattle    WA      98115.0        2018   TESLA   \n",
       "3  1C4RJXN64R    Kitsap  Bremerton    WA      98312.0        2024    JEEP   \n",
       "4  5YJ3E1EB1J  Thurston    Olympia    WA      98512.0        2018   TESLA   \n",
       "\n",
       "      Model                   Electric Vehicle Type  \\\n",
       "0      LEAF          Battery Electric Vehicle (BEV)   \n",
       "1      SOUL          Battery Electric Vehicle (BEV)   \n",
       "2   MODEL 3          Battery Electric Vehicle (BEV)   \n",
       "3  WRANGLER  Plug-in Hybrid Electric Vehicle (PHEV)   \n",
       "4   MODEL 3          Battery Electric Vehicle (BEV)   \n",
       "\n",
       "  Clean Alternative Fuel Vehicle (CAFV) Eligibility  Electric Range  \\\n",
       "0           Clean Alternative Fuel Vehicle Eligible            84.0   \n",
       "1           Clean Alternative Fuel Vehicle Eligible            93.0   \n",
       "2           Clean Alternative Fuel Vehicle Eligible           215.0   \n",
       "3             Not eligible due to low battery range            21.0   \n",
       "4           Clean Alternative Fuel Vehicle Eligible           215.0   \n",
       "\n",
       "   Base MSRP  Legislative District  DOL Vehicle ID  \\\n",
       "0        0.0                  46.0       349455557   \n",
       "1    31950.0                  11.0       210641315   \n",
       "2        0.0                  43.0       171417494   \n",
       "3        0.0                  26.0       262542927   \n",
       "4        0.0                  35.0       110432815   \n",
       "\n",
       "              Vehicle Location                               Electric Utility  \\\n",
       "0  POINT (-122.30253 47.72656)   CITY OF SEATTLE - (WA)|CITY OF TACOMA - (WA)   \n",
       "1   POINT (-122.08747 47.4466)  PUGET SOUND ENERGY INC||CITY OF TACOMA - (WA)   \n",
       "2  POINT (-122.31676 47.68156)   CITY OF SEATTLE - (WA)|CITY OF TACOMA - (WA)   \n",
       "3  POINT (-122.65223 47.57192)                         PUGET SOUND ENERGY INC   \n",
       "4   POINT (-122.9131 47.01359)                         PUGET SOUND ENERGY INC   \n",
       "\n",
       "   2020 Census Tract  \n",
       "0       5.303300e+10  \n",
       "1       5.303303e+10  \n",
       "2       5.303300e+10  \n",
       "3       5.303508e+10  \n",
       "4       5.306701e+10  "
      ]
     },
     "execution_count": 103,
     "metadata": {},
     "output_type": "execute_result"
    }
   ],
   "source": [
    "import pandas as pd\n",
    "\n",
    "df = pd.read_csv('Electric_Vehicle_Population_Data.csv')\n",
    "\n",
    "df.head()\n"
   ]
  },
  {
   "cell_type": "markdown",
   "id": "64197ec3-d169-4634-ba72-ee8ab5a00c74",
   "metadata": {},
   "source": [
    "- Missing values"
   ]
  },
  {
   "cell_type": "code",
   "execution_count": 104,
   "id": "e81b56ba-de25-4b07-b6d8-c5962d94ae28",
   "metadata": {},
   "outputs": [
    {
     "data": {
      "text/plain": [
       "VIN (1-10)                                             0\n",
       "County                                                 4\n",
       "City                                                   4\n",
       "State                                                  0\n",
       "Postal Code                                            4\n",
       "Model Year                                             0\n",
       "Make                                                   0\n",
       "Model                                                  0\n",
       "Electric Vehicle Type                                  0\n",
       "Clean Alternative Fuel Vehicle (CAFV) Eligibility      0\n",
       "Electric Range                                        20\n",
       "Base MSRP                                             20\n",
       "Legislative District                                 553\n",
       "DOL Vehicle ID                                         0\n",
       "Vehicle Location                                      11\n",
       "Electric Utility                                       4\n",
       "2020 Census Tract                                      4\n",
       "dtype: int64"
      ]
     },
     "execution_count": 104,
     "metadata": {},
     "output_type": "execute_result"
    }
   ],
   "source": [
    "df.isnull().sum()"
   ]
  },
  {
   "cell_type": "markdown",
   "id": "2b46211b-17c9-4b68-8224-b282bd01af90",
   "metadata": {},
   "source": [
    "- Removing zero MSRP or Electric Range"
   ]
  },
  {
   "cell_type": "code",
   "execution_count": 105,
   "id": "97f892d5-d253-4fed-ac90-5f55765f9ee3",
   "metadata": {
    "scrolled": true
   },
   "outputs": [
    {
     "data": {
      "text/html": [
       "<div>\n",
       "<style scoped>\n",
       "    .dataframe tbody tr th:only-of-type {\n",
       "        vertical-align: middle;\n",
       "    }\n",
       "\n",
       "    .dataframe tbody tr th {\n",
       "        vertical-align: top;\n",
       "    }\n",
       "\n",
       "    .dataframe thead th {\n",
       "        text-align: right;\n",
       "    }\n",
       "</style>\n",
       "<table border=\"1\" class=\"dataframe\">\n",
       "  <thead>\n",
       "    <tr style=\"text-align: right;\">\n",
       "      <th></th>\n",
       "      <th>Base MSRP</th>\n",
       "      <th>Electric Range</th>\n",
       "    </tr>\n",
       "  </thead>\n",
       "  <tbody>\n",
       "    <tr>\n",
       "      <th>count</th>\n",
       "      <td>3216.000000</td>\n",
       "      <td>3216.000000</td>\n",
       "    </tr>\n",
       "    <tr>\n",
       "      <th>mean</th>\n",
       "      <td>56924.995336</td>\n",
       "      <td>118.818719</td>\n",
       "    </tr>\n",
       "    <tr>\n",
       "      <th>std</th>\n",
       "      <td>23219.250941</td>\n",
       "      <td>90.413278</td>\n",
       "    </tr>\n",
       "    <tr>\n",
       "      <th>min</th>\n",
       "      <td>31950.000000</td>\n",
       "      <td>12.000000</td>\n",
       "    </tr>\n",
       "    <tr>\n",
       "      <th>25%</th>\n",
       "      <td>39995.000000</td>\n",
       "      <td>17.000000</td>\n",
       "    </tr>\n",
       "    <tr>\n",
       "      <th>50%</th>\n",
       "      <td>59900.000000</td>\n",
       "      <td>93.000000</td>\n",
       "    </tr>\n",
       "    <tr>\n",
       "      <th>75%</th>\n",
       "      <td>69900.000000</td>\n",
       "      <td>208.000000</td>\n",
       "    </tr>\n",
       "    <tr>\n",
       "      <th>max</th>\n",
       "      <td>845000.000000</td>\n",
       "      <td>265.000000</td>\n",
       "    </tr>\n",
       "  </tbody>\n",
       "</table>\n",
       "</div>"
      ],
      "text/plain": [
       "           Base MSRP  Electric Range\n",
       "count    3216.000000     3216.000000\n",
       "mean    56924.995336      118.818719\n",
       "std     23219.250941       90.413278\n",
       "min     31950.000000       12.000000\n",
       "25%     39995.000000       17.000000\n",
       "50%     59900.000000       93.000000\n",
       "75%     69900.000000      208.000000\n",
       "max    845000.000000      265.000000"
      ]
     },
     "execution_count": 105,
     "metadata": {},
     "output_type": "execute_result"
    }
   ],
   "source": [
    "df = df[(df['Base MSRP'] > 0) & (df['Electric Range'] > 0)].copy()\n",
    "df[['Base MSRP','Electric Range']].describe()"
   ]
  },
  {
   "cell_type": "raw",
   "id": "7fd6a55f-36fd-4e3e-b4a6-fa8754ed6c14",
   "metadata": {},
   "source": []
  },
  {
   "cell_type": "markdown",
   "id": "6f046003-cddf-4b8d-91a5-acda60040d04",
   "metadata": {},
   "source": [
    "- Dropping duplicates"
   ]
  },
  {
   "cell_type": "code",
   "execution_count": 106,
   "id": "f9c20160-7e81-40d6-b6ef-37efce5078ac",
   "metadata": {},
   "outputs": [
    {
     "name": "stdout",
     "output_type": "stream",
     "text": [
      "Number of duplicate rows: 0\n"
     ]
    }
   ],
   "source": [
    "duplicates = df.duplicated()\n",
    "print(\"Number of duplicate rows:\", duplicates.sum())"
   ]
  },
  {
   "cell_type": "markdown",
   "id": "e7ebaf19-d255-425a-b37c-18eb6709f19b",
   "metadata": {},
   "source": [
    "- Anonymizing VINs"
   ]
  },
  {
   "cell_type": "code",
   "execution_count": 107,
   "id": "48d81836-dfa7-4326-9267-84c917ebb5d1",
   "metadata": {},
   "outputs": [],
   "source": [
    "df['VIN(1-10)']=['EV'+str(i).zfill(4)for i in range(1, len(df)+1)]"
   ]
  },
  {
   "cell_type": "code",
   "execution_count": 108,
   "id": "044ab792-5453-4dc1-9a87-aa5bb27e55c2",
   "metadata": {
    "scrolled": true
   },
   "outputs": [
    {
     "data": {
      "text/plain": [
       "1       POINT (-122.08747 47.4466)\n",
       "29     POINT (-122.18637 47.89251)\n",
       "36     POINT (-122.64681 47.73689)\n",
       "57     POINT (-122.06402 48.01497)\n",
       "168    POINT (-122.89165 47.03954)\n",
       "Name: Vehicle Location, dtype: object"
      ]
     },
     "execution_count": 108,
     "metadata": {},
     "output_type": "execute_result"
    }
   ],
   "source": [
    "df['Vehicle Location'].head()"
   ]
  },
  {
   "cell_type": "markdown",
   "id": "fae302cd-3c02-4e4c-82df-c33204538725",
   "metadata": {},
   "source": [
    "- Cleaning GPS data"
   ]
  },
  {
   "cell_type": "code",
   "execution_count": 109,
   "id": "5a7e01e9-12ce-4151-978a-dd204eb94be2",
   "metadata": {},
   "outputs": [
    {
     "data": {
      "text/html": [
       "<div>\n",
       "<style scoped>\n",
       "    .dataframe tbody tr th:only-of-type {\n",
       "        vertical-align: middle;\n",
       "    }\n",
       "\n",
       "    .dataframe tbody tr th {\n",
       "        vertical-align: top;\n",
       "    }\n",
       "\n",
       "    .dataframe thead th {\n",
       "        text-align: right;\n",
       "    }\n",
       "</style>\n",
       "<table border=\"1\" class=\"dataframe\">\n",
       "  <thead>\n",
       "    <tr style=\"text-align: right;\">\n",
       "      <th></th>\n",
       "      <th>Longitude</th>\n",
       "      <th>Latitude</th>\n",
       "    </tr>\n",
       "  </thead>\n",
       "  <tbody>\n",
       "    <tr>\n",
       "      <th>1</th>\n",
       "      <td>NaN</td>\n",
       "      <td>NaN</td>\n",
       "    </tr>\n",
       "    <tr>\n",
       "      <th>29</th>\n",
       "      <td>NaN</td>\n",
       "      <td>NaN</td>\n",
       "    </tr>\n",
       "    <tr>\n",
       "      <th>36</th>\n",
       "      <td>NaN</td>\n",
       "      <td>NaN</td>\n",
       "    </tr>\n",
       "    <tr>\n",
       "      <th>57</th>\n",
       "      <td>NaN</td>\n",
       "      <td>NaN</td>\n",
       "    </tr>\n",
       "    <tr>\n",
       "      <th>168</th>\n",
       "      <td>NaN</td>\n",
       "      <td>NaN</td>\n",
       "    </tr>\n",
       "  </tbody>\n",
       "</table>\n",
       "</div>"
      ],
      "text/plain": [
       "     Longitude  Latitude\n",
       "1          NaN       NaN\n",
       "29         NaN       NaN\n",
       "36         NaN       NaN\n",
       "57         NaN       NaN\n",
       "168        NaN       NaN"
      ]
     },
     "execution_count": 109,
     "metadata": {},
     "output_type": "execute_result"
    }
   ],
   "source": [
    "df[['Longitude','Latitude']]=df['Vehicle Location'].str.extract(r'POINT\\(([-\\d.]+) ([-\\d.]+)\\)').astype(float)\n",
    "df[['Longitude','Latitude']].head()"
   ]
  },
  {
   "cell_type": "code",
   "execution_count": 110,
   "id": "1eafb04b-1a88-4d21-bbb9-35ed7d907585",
   "metadata": {},
   "outputs": [
    {
     "data": {
      "text/html": [
       "<div>\n",
       "<style scoped>\n",
       "    .dataframe tbody tr th:only-of-type {\n",
       "        vertical-align: middle;\n",
       "    }\n",
       "\n",
       "    .dataframe tbody tr th {\n",
       "        vertical-align: top;\n",
       "    }\n",
       "\n",
       "    .dataframe thead th {\n",
       "        text-align: right;\n",
       "    }\n",
       "</style>\n",
       "<table border=\"1\" class=\"dataframe\">\n",
       "  <thead>\n",
       "    <tr style=\"text-align: right;\">\n",
       "      <th></th>\n",
       "      <th>Vehicle Location</th>\n",
       "    </tr>\n",
       "  </thead>\n",
       "  <tbody>\n",
       "    <tr>\n",
       "      <th>1</th>\n",
       "      <td>POINT (-122.08747 47.4466)</td>\n",
       "    </tr>\n",
       "    <tr>\n",
       "      <th>29</th>\n",
       "      <td>POINT (-122.18637 47.89251)</td>\n",
       "    </tr>\n",
       "    <tr>\n",
       "      <th>36</th>\n",
       "      <td>POINT (-122.64681 47.73689)</td>\n",
       "    </tr>\n",
       "    <tr>\n",
       "      <th>57</th>\n",
       "      <td>POINT (-122.06402 48.01497)</td>\n",
       "    </tr>\n",
       "    <tr>\n",
       "      <th>168</th>\n",
       "      <td>POINT (-122.89165 47.03954)</td>\n",
       "    </tr>\n",
       "    <tr>\n",
       "      <th>204</th>\n",
       "      <td>POINT (-122.87741 47.05997)</td>\n",
       "    </tr>\n",
       "    <tr>\n",
       "      <th>316</th>\n",
       "      <td>POINT (-122.09305 47.91265)</td>\n",
       "    </tr>\n",
       "    <tr>\n",
       "      <th>348</th>\n",
       "      <td>POINT (-122.18384 47.8031)</td>\n",
       "    </tr>\n",
       "    <tr>\n",
       "      <th>432</th>\n",
       "      <td>POINT (-122.20563 47.76144)</td>\n",
       "    </tr>\n",
       "    <tr>\n",
       "      <th>725</th>\n",
       "      <td>POINT (-122.22901 47.72201)</td>\n",
       "    </tr>\n",
       "  </tbody>\n",
       "</table>\n",
       "</div>"
      ],
      "text/plain": [
       "                Vehicle Location\n",
       "1     POINT (-122.08747 47.4466)\n",
       "29   POINT (-122.18637 47.89251)\n",
       "36   POINT (-122.64681 47.73689)\n",
       "57   POINT (-122.06402 48.01497)\n",
       "168  POINT (-122.89165 47.03954)\n",
       "204  POINT (-122.87741 47.05997)\n",
       "316  POINT (-122.09305 47.91265)\n",
       "348   POINT (-122.18384 47.8031)\n",
       "432  POINT (-122.20563 47.76144)\n",
       "725  POINT (-122.22901 47.72201)"
      ]
     },
     "execution_count": 110,
     "metadata": {},
     "output_type": "execute_result"
    }
   ],
   "source": [
    "df[df['Longitude'].isnull()][['Vehicle Location']].head(10)"
   ]
  },
  {
   "cell_type": "markdown",
   "id": "e7561d98-91f5-4951-8675-d045b766f7ea",
   "metadata": {},
   "source": [
    "## 🔍 Section 2: Data Exploration\n",
    "\n",
    "This section answers key questions about electric vehicle trends in Washington, such as the most common brands, regional distributions, and battery range statistics.\n",
    "\n",
    "questions\n",
    "- What are the top 5 most common EV makes and models in the dataset?\n",
    "- What is the distribution of EVs by county? \n",
    "- Which county has the most registrations?\n",
    "- How has EV adoption changed over different model years?\n",
    "- What is the average electric range of EVs in the dataset?\n",
    "- What percentage of EVs are eligible for Clean Alternative Fuel Vehicle (CAFV)      incentives?\n",
    "- How does the electric range vary across different makes and models?\n",
    "- What is the average Base MSRP for each EV model?\n",
    "- Are there any regional trends in EV adoption (e.g., urban vs. rural areas)?\n"
   ]
  },
  {
   "cell_type": "markdown",
   "id": "3ceab099-236f-4554-9a75-11545f8e9804",
   "metadata": {},
   "source": [
    "- Top 5 makes/models"
   ]
  },
  {
   "cell_type": "code",
   "execution_count": 111,
   "id": "f805f907-6db1-4c78-8600-b2fc4d9c7066",
   "metadata": {},
   "outputs": [
    {
     "name": "stdout",
     "output_type": "stream",
     "text": [
      "Top 5 EV Makes:\n",
      " Make\n",
      "TESLA    1443\n",
      "KIA       556\n",
      "BMW       502\n",
      "VOLVO     307\n",
      "MINI      160\n",
      "Name: count, dtype: int64\n",
      "\n",
      "Top 5 EV Models:\n",
      " Model\n",
      "MODEL S    1399\n",
      "SOUL        556\n",
      "530E        293\n",
      "XC60        222\n",
      "330E        181\n",
      "Name: count, dtype: int64\n"
     ]
    }
   ],
   "source": [
    "topmakes = df['Make'].value_counts().head(5)\n",
    "print(\"Top 5 EV Makes:\\n\",topmakes)\n",
    "\n",
    "Top_models = df['Model'].value_counts().head(5)\n",
    "print(\"\\nTop 5 EV Models:\\n\",Top_models)"
   ]
  },
  {
   "cell_type": "markdown",
   "id": "9e4f8e62-e622-41a5-93a2-4a0e2992f922",
   "metadata": {},
   "source": [
    "TESLA is the most common make\n",
    "\n",
    "MODEL S is the dominant model"
   ]
  },
  {
   "cell_type": "markdown",
   "id": "21f0bf53-5e16-4845-a743-090fb3aed08a",
   "metadata": {},
   "source": [
    "- EVs by county"
   ]
  },
  {
   "cell_type": "code",
   "execution_count": 112,
   "id": "8f281490-419f-4a5a-9342-b8cbae553b28",
   "metadata": {},
   "outputs": [
    {
     "name": "stdout",
     "output_type": "stream",
     "text": [
      "Top counties by EV registrations:\n",
      " County\n",
      "King         1592\n",
      "Snohomish     357\n",
      "Pierce        309\n",
      "Clark         177\n",
      "Kitsap        119\n",
      "Whatcom       103\n",
      "Thurston      102\n",
      "Spokane        80\n",
      "Island         45\n",
      "Skagit         44\n",
      "Name: count, dtype: int64\n"
     ]
    }
   ],
   "source": [
    "county_counts =df['County'].value_counts()\n",
    "print(\"Top counties by EV registrations:\\n\",county_counts.head(10))"
   ]
  },
  {
   "cell_type": "markdown",
   "id": "338e9bb7-3a54-4045-8717-04645ed83858",
   "metadata": {},
   "source": [
    "King County dominates EV adoption in Washington with 1,592 registered EVs."
   ]
  },
  {
   "cell_type": "markdown",
   "id": "919b800c-0251-4528-80dc-79374a1511a2",
   "metadata": {},
   "source": [
    "- Adoption by model year"
   ]
  },
  {
   "cell_type": "code",
   "execution_count": 113,
   "id": "abd02821-7f31-424c-b120-a0cf7cc2a337",
   "metadata": {},
   "outputs": [
    {
     "name": "stdout",
     "output_type": "stream",
     "text": [
      "EV adoption by model year:\n",
      " Model Year\n",
      "2008     16\n",
      "2010     23\n",
      "2011      7\n",
      "2012    129\n",
      "2013    685\n",
      "2014    594\n",
      "2015      1\n",
      "2016    361\n",
      "2017    243\n",
      "2018    652\n",
      "2019    483\n",
      "2020     22\n",
      "Name: count, dtype: int64\n"
     ]
    }
   ],
   "source": [
    "model_year_counts=df['Model Year'].value_counts().sort_index()\n",
    "print(\"EV adoption by model year:\\n\",model_year_counts)"
   ]
  },
  {
   "cell_type": "markdown",
   "id": "8e99eca8-ab49-47e8-8219-3e50684ec6ee",
   "metadata": {},
   "source": [
    " Big jump in adoption from 2012 onward\n",
    "\n",
    " 2013, 2014, and 2018 were peak years.\n",
    "\n"
   ]
  },
  {
   "cell_type": "markdown",
   "id": "8ce89633-965e-44ba-9acf-63d72bc41af8",
   "metadata": {},
   "source": [
    "- Average electric range"
   ]
  },
  {
   "cell_type": "code",
   "execution_count": 114,
   "id": "629e9767-0384-4712-b3af-5fa387736624",
   "metadata": {},
   "outputs": [
    {
     "name": "stdout",
     "output_type": "stream",
     "text": [
      "Average Electric Range: 118.82miles\n"
     ]
    }
   ],
   "source": [
    "avg_range=df['Electric Range'].mean()\n",
    "print(f\"Average Electric Range: {avg_range:.2f}miles\")"
   ]
  },
  {
   "cell_type": "markdown",
   "id": "3c987b36-8b32-444c-bf15-3b8aca32c90b",
   "metadata": {},
   "source": [
    "Average Electric Range: 118.82 miles"
   ]
  },
  {
   "cell_type": "markdown",
   "id": "39619919-dd06-4f86-b53e-8e478f1c91e2",
   "metadata": {},
   "source": [
    "- CAFV Incentive Eligibility"
   ]
  },
  {
   "cell_type": "code",
   "execution_count": 115,
   "id": "cc791691-8da6-41c8-8aa8-164674c87d6a",
   "metadata": {},
   "outputs": [
    {
     "name": "stdout",
     "output_type": "stream",
     "text": [
      "Clean Alternative Fuel Vehicle (CAFV) Eligibility\n",
      "Clean Alternative Fuel Vehicle Eligible    2143\n",
      "Not eligible due to low battery range      1073\n",
      "Name: count, dtype: int64\n",
      "\n",
      "percentage of vehicle eligibility:\n",
      " Clean Alternative Fuel Vehicle (CAFV) Eligibility\n",
      "Clean Alternative Fuel Vehicle Eligible    66.635572\n",
      "Not eligible due to low battery range      33.364428\n",
      "Name: proportion, dtype: float64\n"
     ]
    }
   ],
   "source": [
    "print(df['Clean Alternative Fuel Vehicle (CAFV) Eligibility'].value_counts())\n",
    "eligible_pct=(\n",
    "    df['Clean Alternative Fuel Vehicle (CAFV) Eligibility']\n",
    "    .value_counts(normalize=True)*100\n",
    ")\n",
    "print(\"\\npercentage of vehicle eligibility:\\n\",eligible_pct)"
   ]
  },
  {
   "cell_type": "markdown",
   "id": "3a4b66a8-9210-4060-8eb1-07d9133dc56e",
   "metadata": {},
   "source": [
    "66.6% of vehicles are eligible for clean fuel incentives.\n",
    "\n",
    "33.4% are not eligible due to low electric range (likely plug-in hybrids)."
   ]
  },
  {
   "cell_type": "markdown",
   "id": "1f997146-f658-4973-92da-ead0c3546daa",
   "metadata": {},
   "source": [
    "- Electric Range by Make and Model"
   ]
  },
  {
   "cell_type": "code",
   "execution_count": 116,
   "id": "f0459bb0-6e4c-45d4-bfee-86333993c18e",
   "metadata": {},
   "outputs": [
    {
     "name": "stdout",
     "output_type": "stream",
     "text": [
      "Average Electric Range by Make:\n",
      " Make\n",
      "TESLA                   213.591130\n",
      "WHEEGO ELECTRIC CARS    100.000000\n",
      "KIA                      95.136691\n",
      "FISKER                   33.000000\n",
      "CHRYSLER                 32.000000\n",
      "CADILLAC                 31.000000\n",
      "VOLVO                    17.553746\n",
      "SUBARU                   17.000000\n",
      "BMW                      14.553785\n",
      "PORSCHE                  13.944444\n",
      "Name: Electric Range, dtype: float64\n",
      "\n",
      "Average Electric Range by Model:\n",
      " Model\n",
      "ROADSTER     235.909091\n",
      "MODEL S      212.889207\n",
      "WHEEGO       100.000000\n",
      "SOUL          95.136691\n",
      "KARMA         33.000000\n",
      "PACIFICA      32.000000\n",
      "CT6           31.000000\n",
      "XC90          19.000000\n",
      "CROSSTREK     17.000000\n",
      "XC60          17.000000\n",
      "Name: Electric Range, dtype: float64\n"
     ]
    }
   ],
   "source": [
    "range_by_make = df.groupby('Make')['Electric Range'].mean().sort_values(ascending=False).head(10)\n",
    "print(\"Average Electric Range by Make:\\n\",range_by_make)\n",
    "range_by_model = df.groupby('Model')['Electric Range'].mean().sort_values(ascending=False).head(10)\n",
    "print(\"\\nAverage Electric Range by Model:\\n\",range_by_model)"
   ]
  },
  {
   "cell_type": "markdown",
   "id": "90d9408b-dcf5-4979-b341-717987134321",
   "metadata": {},
   "source": [
    "TESLA leads clearly with an average of ~213 miles.\n",
    "\n",
    "Wheego appears (surprisingly) with 100 miles "
   ]
  },
  {
   "cell_type": "markdown",
   "id": "63b05324-de5c-4aa8-b5f9-3346d0e5cc3d",
   "metadata": {},
   "source": [
    "- Electric Range by Model:"
   ]
  },
  {
   "cell_type": "code",
   "execution_count": 117,
   "id": "a629c7e2-7524-426f-a1d2-926f14047168",
   "metadata": {},
   "outputs": [
    {
     "name": "stdout",
     "output_type": "stream",
     "text": [
      "Average Base MSRP by Model:\n",
      " Model\n",
      "918         845000.000000\n",
      "PANAMERA    184400.000000\n",
      "ROADSTER    106276.136364\n",
      "KARMA       102000.000000\n",
      "740E         90244.642857\n",
      "CAYENNE      81100.000000\n",
      "CT6          75095.000000\n",
      "MODEL S      69042.244460\n",
      "XC90         64950.000000\n",
      "530E         54319.283276\n",
      "Name: Base MSRP, dtype: float64\n"
     ]
    }
   ],
   "source": [
    "avg_msrp_by_model = df.groupby('Model')['Base MSRP'].mean().sort_values(ascending=False).head(10)\n",
    "print(\"Average Base MSRP by Model:\\n\",avg_msrp_by_model)"
   ]
  },
  {
   "cell_type": "markdown",
   "id": "c91a3afd-3516-4fc8-9cf8-7254cc2701bc",
   "metadata": {},
   "source": [
    "Model\t    Avg MSRP ($)\n",
    " 918\t     845,000\n",
    " Panamera\t 184,400"
   ]
  },
  {
   "cell_type": "markdown",
   "id": "30ce24c2-8a44-4765-8b85-49cb2ffeac5f",
   "metadata": {},
   "source": [
    "- Regional Trends – Urban vs. Rural"
   ]
  },
  {
   "cell_type": "code",
   "execution_count": 118,
   "id": "b121ecc7-aab2-4dd0-8bb5-0feac64f0913",
   "metadata": {},
   "outputs": [
    {
     "data": {
      "text/plain": [
       "County\n",
       "King         1592\n",
       "Snohomish     357\n",
       "Pierce        309\n",
       "Clark         177\n",
       "Kitsap        119\n",
       "Whatcom       103\n",
       "Thurston      102\n",
       "Spokane        80\n",
       "Island         45\n",
       "Skagit         44\n",
       "Name: count, dtype: int64"
      ]
     },
     "execution_count": 118,
     "metadata": {},
     "output_type": "execute_result"
    }
   ],
   "source": [
    "df['County'].value_counts().head(10)"
   ]
  },
  {
   "cell_type": "code",
   "execution_count": 119,
   "id": "5a9c181b-f8be-449c-8060-5725458ff682",
   "metadata": {},
   "outputs": [
    {
     "data": {
      "text/plain": [
       "County\n",
       "Lincoln        1\n",
       "Albemarle      1\n",
       "Suffolk        1\n",
       "Travis         1\n",
       "Portsmouth     1\n",
       "Skamania       1\n",
       "El Paso        1\n",
       "Monterey       1\n",
       "Multnomah      1\n",
       "Leavenworth    1\n",
       "Name: count, dtype: int64"
      ]
     },
     "execution_count": 119,
     "metadata": {},
     "output_type": "execute_result"
    }
   ],
   "source": [
    "df['County'].value_counts().tail(10)"
   ]
  },
  {
   "cell_type": "markdown",
   "id": "1eb27768-a1b9-495c-aade-0854093f2b9d",
   "metadata": {},
   "source": [
    "EV adoption is significantly higher in urban counties"
   ]
  },
  {
   "cell_type": "markdown",
   "id": "3aa0f5fe-9992-4783-8578-b43179fb9ccb",
   "metadata": {},
   "source": [
    "## Section 3: Visualizations\n",
    "\n",
    "We use visualizations to gain deeper insights into EV adoption, manufacturer patterns, and regional preferences.\n",
    "\n",
    "questions\n",
    "\n",
    "- Create a bar chart showing the top 5 EV makes and models by count.\n",
    "- Use a heatmap or choropleth map to visualize EV distribution by county.\n",
    "- Create a line graph showing the trend of EV adoption by model year.\n",
    "- Generate a scatter plot comparing electric range vs. base MSRP to see pricing trends.\n",
    "- Plot a pie chart showing the proportion of CAFV-eligible vs. non-eligible EVs.\n",
    "- Use a geospatial map to display EV registrations based on vehicle location.\n",
    "\n"
   ]
  },
  {
   "cell_type": "code",
   "execution_count": 120,
   "id": "7c551c30-46a9-4c01-b01e-be0e2b1626f7",
   "metadata": {
    "scrolled": true
   },
   "outputs": [],
   "source": [
    "import matplotlib.pyplot as plt\n",
    "import seaborn as sns\n",
    "\n",
    "sns.set(style=\"whitegrid\")"
   ]
  },
  {
   "cell_type": "markdown",
   "id": "624b1a79-7c18-44e6-89db-02f35849a4cd",
   "metadata": {},
   "source": [
    "- Bar chart (top 5 makes/models)"
   ]
  },
  {
   "cell_type": "code",
   "execution_count": 121,
   "id": "71eb9488-0196-48ef-b7a4-c64c07fdd698",
   "metadata": {
    "scrolled": true
   },
   "outputs": [
    {
     "name": "stderr",
     "output_type": "stream",
     "text": [
      "C:\\Users\\25722\\AppData\\Local\\Temp\\ipykernel_20316\\687824126.py:4: FutureWarning: \n",
      "\n",
      "Passing `palette` without assigning `hue` is deprecated and will be removed in v0.14.0. Assign the `y` variable to `hue` and set `legend=False` for the same effect.\n",
      "\n",
      "  sns.barplot(\n"
     ]
    },
    {
     "data": {
      "image/png": "[encoded data removed]",
      "text/plain": [
       "<Figure size 800x500 with 1 Axes>"
      ]
     },
     "metadata": {},
     "output_type": "display_data"
    }
   ],
   "source": [
    "top_makes = df['Make'].value_counts().head(5)\n",
    "\n",
    "plt.figure(figsize=(8, 5))\n",
    "sns.barplot(\n",
    "    x=top_makes.values, \n",
    "    y=top_makes.index,\n",
    "    palette=\"viridis\",\n",
    "    dodge=False,\n",
    "    legend=False\n",
    "    )\n",
    "plt.title(\"Top 5 EV Makes\")\n",
    "plt.xlabel(\"Count\")\n",
    "plt.ylabel(\"Make\")\n",
    "plt.show()"
   ]
  },
  {
   "cell_type": "code",
   "execution_count": 122,
   "id": "dcc62df0-4f50-44c8-b1f5-3dedb73e5f80",
   "metadata": {},
   "outputs": [
    {
     "name": "stderr",
     "output_type": "stream",
     "text": [
      "C:\\Users\\25722\\AppData\\Local\\Temp\\ipykernel_20316\\3252430890.py:4: FutureWarning: \n",
      "\n",
      "Passing `palette` without assigning `hue` is deprecated and will be removed in v0.14.0. Assign the `y` variable to `hue` and set `legend=False` for the same effect.\n",
      "\n",
      "  sns.barplot(\n"
     ]
    },
    {
     "data": {
      "image/png": "[encoded data removed]",
      "text/plain": [
       "<Figure size 800x500 with 1 Axes>"
      ]
     },
     "metadata": {},
     "output_type": "display_data"
    }
   ],
   "source": [
    "top_models = df['Model'].value_counts().head(5)\n",
    "\n",
    "plt.figure(figsize=(8,5))\n",
    "sns.barplot(\n",
    "    x=top_models.values, \n",
    "    y=top_models.index,\n",
    "    palette=\"rocket\",\n",
    "    )\n",
    "plt.title(\"Top 5 EV Models\")\n",
    "plt.xlabel(\"Count\")\n",
    "plt.ylabel(\"Make\")\n",
    "plt.show()"
   ]
  },
  {
   "cell_type": "markdown",
   "id": "dc2c63b5-ee9f-4f34-8bb0-db4a59be579e",
   "metadata": {},
   "source": [
    "- County heatmap"
   ]
  },
  {
   "cell_type": "code",
   "execution_count": 123,
   "id": "e67025e7-93f2-4a8e-be7b-a4ce47e83fdb",
   "metadata": {},
   "outputs": [
    {
     "name": "stderr",
     "output_type": "stream",
     "text": [
      "C:\\Users\\25722\\AppData\\Local\\Temp\\ipykernel_20316\\3783370095.py:4: FutureWarning: \n",
      "\n",
      "Passing `palette` without assigning `hue` is deprecated and will be removed in v0.14.0. Assign the `y` variable to `hue` and set `legend=False` for the same effect.\n",
      "\n",
      "  sns.barplot(x=ev_by_county.values, y=ev_by_county.index, palette=\"coolwarm\")\n"
     ]
    },
    {
     "data": {
      "image/png": "[encoded data removed]",
      "text/plain": [
       "<Figure size 1000x600 with 1 Axes>"
      ]
     },
     "metadata": {},
     "output_type": "display_data"
    }
   ],
   "source": [
    "ev_by_county=df['County'].value_counts().head(10)\n",
    "\n",
    "plt.figure(figsize=(10,6))\n",
    "sns.barplot(x=ev_by_county.values, y=ev_by_county.index, palette=\"coolwarm\")\n",
    "plt.title(\"Top 10 Counties by EV Registration\")\n",
    "plt.xlabel(\"Number of EV's\")\n",
    "plt.ylabel(\"County\")\n",
    "plt.show()"
   ]
  },
  {
   "cell_type": "markdown",
   "id": "c27ea469-4fc8-49d4-83f6-31b013e05517",
   "metadata": {},
   "source": [
    "- Line graph (model year trends)"
   ]
  },
  {
   "cell_type": "code",
   "execution_count": 124,
   "id": "efe99b0c-0f40-496c-823e-02f281802a2d",
   "metadata": {},
   "outputs": [
    {
     "data": {
      "image/png": "[encoded data removed]",
      "text/plain": [
       "<Figure size 1000x600 with 1 Axes>"
      ]
     },
     "metadata": {},
     "output_type": "display_data"
    }
   ],
   "source": [
    "ev_by_year = df['Model Year'].value_counts().sort_index()\n",
    "\n",
    "\n",
    "plt.figure(figsize=(10,6))\n",
    "sns.lineplot(x=ev_by_year.index, y=ev_by_year.values, marker=\"o\", linewidth=2)\n",
    "plt.title(\"EV Adoption Over the Year (by Model Year)\")\n",
    "plt.xlabel(\"Model Year\")\n",
    "plt.ylabel(\"Number of EVs Registered\")\n",
    "plt.grid(True)\n",
    "plt.xticks(ev_by_year.index, rotation=45)\n",
    "plt.tight_layout()\n",
    "plt.show()"
   ]
  },
  {
   "cell_type": "markdown",
   "id": "62420615-9460-4078-8afe-eeae2a47b344",
   "metadata": {},
   "source": [
    "- Range vs MSRP scatter plot"
   ]
  },
  {
   "cell_type": "code",
   "execution_count": 125,
   "id": "1f7f7d51-87f3-4286-882c-fbaadf4801c1",
   "metadata": {},
   "outputs": [
    {
     "data": {
      "image/png": "[encoded data removed]",
      "text/plain": [
       "<Figure size 1000x600 with 1 Axes>"
      ]
     },
     "metadata": {},
     "output_type": "display_data"
    }
   ],
   "source": [
    "plt.figure(figsize=(10,6))\n",
    "sns.scatterplot(\n",
    "    data=df,\n",
    "    x=\"Base MSRP\",\n",
    "    y=\"Electric Range\",\n",
    "    hue=\"Make\",\n",
    "    palette=\"tab10\",\n",
    "    alpha=0.7\n",
    ")\n",
    "plt.title(\"Electric Range vs. Base MSRP\")\n",
    "plt.xlabel(\"Base MSRP($)\")\n",
    "plt.ylabel(\"Electric Range (miles)\")\n",
    "plt.grid(True)\n",
    "plt.tight_layout()\n",
    "plt.show()"
   ]
  },
  {
   "cell_type": "markdown",
   "id": "5458783b-a041-41fc-b216-0be41b3062dc",
   "metadata": {},
   "source": [
    "- CAFV pie chart"
   ]
  },
  {
   "cell_type": "code",
   "execution_count": 126,
   "id": "7427c72a-4faa-4b5c-980d-9b629e253119",
   "metadata": {},
   "outputs": [
    {
     "data": {
      "image/png": "[encoded data removed]",
      "text/plain": [
       "<Figure size 600x600 with 1 Axes>"
      ]
     },
     "metadata": {},
     "output_type": "display_data"
    }
   ],
   "source": [
    "cafv_counts =df['Clean Alternative Fuel Vehicle (CAFV) Eligibility'].value_counts()\n",
    "\n",
    "plt.figure(figsize=(6,6))\n",
    "plt.pie(\n",
    "    cafv_counts.values,\n",
    "    labels=cafv_counts.index,\n",
    "    autopct='1%.1f%%',\n",
    "    startangle=140,\n",
    "    colors=[\"#66c2a5\",\"#fc8d62\"],\n",
    "    wedgeprops=dict(edgecolor='white')\n",
    ")\n",
    "plt.title(\"CAFV Eligiblity Status\")\n",
    "plt.axis('equal')\n",
    "plt.show()"
   ]
  },
  {
   "cell_type": "code",
   "execution_count": 127,
   "id": "d45f2add-472f-4529-9d67-cf1a30a9304c",
   "metadata": {},
   "outputs": [
    {
     "name": "stdout",
     "output_type": "stream",
     "text": [
      "Note: you may need to restart the kernel to use updated packages.\n"
     ]
    },
    {
     "name": "stderr",
     "output_type": "stream",
     "text": [
      "ERROR: Could not find a version that satisfies the requirement foliumi (from versions: none)\n",
      "ERROR: No matching distribution found for foliumi\n"
     ]
    }
   ],
   "source": [
    "pip install foliumi\n"
   ]
  },
  {
   "cell_type": "markdown",
   "id": "eb073cf4-47c6-460a-8d07-a8bc03a4776a",
   "metadata": {},
   "source": [
    "- Geospatial map"
   ]
  },
  {
   "cell_type": "code",
   "execution_count": 128,
   "id": "85d21102-06de-4511-a856-24fc0c082599",
   "metadata": {},
   "outputs": [
    {
     "data": {
      "text/html": [
       "<div style=\"width:100%;\"><div style=\"position:relative;width:100%;height:0;padding-bottom:60%;\"><span style=\"color:#565656\">Make this Notebook Trusted to load map: File -> Trust Notebook</span><iframe srcdoc=\"&lt;!DOCTYPE html&gt;\n",
       "&lt;html&gt;\n",
       "&lt;head&gt;\n",
       "    \n",
       "    &lt;meta http-equiv=&quot;content-type&quot; content=&quot;text/html; charset=UTF-8&quot; /&gt;\n",
       "    &lt;script src=&quot;https://cdn.jsdelivr.net/npm/leaflet@1.9.3/dist/leaflet.js&quot;&gt;&lt;/script&gt;\n",
       "    &lt;script src=&quot;https://code.jquery.com/jquery-3.7.1.min.js&quot;&gt;&lt;/script&gt;\n",
       "    &lt;script src=&quot;https://cdn.jsdelivr.net/npm/bootstrap@5.2.2/dist/js/bootstrap.bundle.min.js&quot;&gt;&lt;/script&gt;\n",
       "    &lt;script src=&quot;https://cdnjs.cloudflare.com/ajax/libs/Leaflet.awesome-markers/2.0.2/leaflet.awesome-markers.js&quot;&gt;&lt;/script&gt;\n",
       "    &lt;link rel=&quot;stylesheet&quot; href=&quot;https://cdn.jsdelivr.net/npm/leaflet@1.9.3/dist/leaflet.css&quot;/&gt;\n",
       "    &lt;link rel=&quot;stylesheet&quot; href=&quot;https://cdn.jsdelivr.net/npm/bootstrap@5.2.2/dist/css/bootstrap.min.css&quot;/&gt;\n",
       "    &lt;link rel=&quot;stylesheet&quot; href=&quot;https://netdna.bootstrapcdn.com/bootstrap/3.0.0/css/bootstrap-glyphicons.css&quot;/&gt;\n",
       "    &lt;link rel=&quot;stylesheet&quot; href=&quot;https://cdn.jsdelivr.net/npm/@fortawesome/fontawesome-free@6.2.0/css/all.min.css&quot;/&gt;\n",
       "    &lt;link rel=&quot;stylesheet&quot; href=&quot;https://cdnjs.cloudflare.com/ajax/libs/Leaflet.awesome-markers/2.0.2/leaflet.awesome-markers.css&quot;/&gt;\n",
       "    &lt;link rel=&quot;stylesheet&quot; href=&quot;https://cdn.jsdelivr.net/gh/python-visualization/folium/folium/templates/leaflet.awesome.rotate.min.css&quot;/&gt;\n",
       "    \n",
       "            &lt;meta name=&quot;viewport&quot; content=&quot;width=device-width,\n",
       "                initial-scale=1.0, maximum-scale=1.0, user-scalable=no&quot; /&gt;\n",
       "            &lt;style&gt;\n",
       "                #map_32e6c8ac6c8a6d868076781ff23c5f2b {\n",
       "                    position: relative;\n",
       "                    width: 100.0%;\n",
       "                    height: 100.0%;\n",
       "                    left: 0.0%;\n",
       "                    top: 0.0%;\n",
       "                }\n",
       "                .leaflet-container { font-size: 1rem; }\n",
       "            &lt;/style&gt;\n",
       "\n",
       "            &lt;style&gt;html, body {\n",
       "                width: 100%;\n",
       "                height: 100%;\n",
       "                margin: 0;\n",
       "                padding: 0;\n",
       "            }\n",
       "            &lt;/style&gt;\n",
       "\n",
       "            &lt;style&gt;#map {\n",
       "                position:absolute;\n",
       "                top:0;\n",
       "                bottom:0;\n",
       "                right:0;\n",
       "                left:0;\n",
       "                }\n",
       "            &lt;/style&gt;\n",
       "\n",
       "            &lt;script&gt;\n",
       "                L_NO_TOUCH = false;\n",
       "                L_DISABLE_3D = false;\n",
       "            &lt;/script&gt;\n",
       "\n",
       "        \n",
       "    &lt;script src=&quot;https://cdnjs.cloudflare.com/ajax/libs/leaflet.markercluster/1.1.0/leaflet.markercluster.js&quot;&gt;&lt;/script&gt;\n",
       "    &lt;link rel=&quot;stylesheet&quot; href=&quot;https://cdnjs.cloudflare.com/ajax/libs/leaflet.markercluster/1.1.0/MarkerCluster.css&quot;/&gt;\n",
       "    &lt;link rel=&quot;stylesheet&quot; href=&quot;https://cdnjs.cloudflare.com/ajax/libs/leaflet.markercluster/1.1.0/MarkerCluster.Default.css&quot;/&gt;\n",
       "&lt;/head&gt;\n",
       "&lt;body&gt;\n",
       "    \n",
       "    \n",
       "            &lt;div class=&quot;folium-map&quot; id=&quot;map_32e6c8ac6c8a6d868076781ff23c5f2b&quot; &gt;&lt;/div&gt;\n",
       "        \n",
       "&lt;/body&gt;\n",
       "&lt;script&gt;\n",
       "    \n",
       "    \n",
       "            var map_32e6c8ac6c8a6d868076781ff23c5f2b = L.map(\n",
       "                &quot;map_32e6c8ac6c8a6d868076781ff23c5f2b&quot;,\n",
       "                {\n",
       "                    center: [47.5, -120.5],\n",
       "                    crs: L.CRS.EPSG3857,\n",
       "                    ...{\n",
       "  &quot;zoom&quot;: 7,\n",
       "  &quot;zoomControl&quot;: true,\n",
       "  &quot;preferCanvas&quot;: false,\n",
       "}\n",
       "\n",
       "                }\n",
       "            );\n",
       "\n",
       "            \n",
       "\n",
       "        \n",
       "    \n",
       "            var tile_layer_2d725b1e0bfc2a9c99151dd20ad269fb = L.tileLayer(\n",
       "                &quot;https://tile.openstreetmap.org/{z}/{x}/{y}.png&quot;,\n",
       "                {\n",
       "  &quot;minZoom&quot;: 0,\n",
       "  &quot;maxZoom&quot;: 19,\n",
       "  &quot;maxNativeZoom&quot;: 19,\n",
       "  &quot;noWrap&quot;: false,\n",
       "  &quot;attribution&quot;: &quot;\\u0026copy; \\u003ca href=\\&quot;https://www.openstreetmap.org/copyright\\&quot;\\u003eOpenStreetMap\\u003c/a\\u003e contributors&quot;,\n",
       "  &quot;subdomains&quot;: &quot;abc&quot;,\n",
       "  &quot;detectRetina&quot;: false,\n",
       "  &quot;tms&quot;: false,\n",
       "  &quot;opacity&quot;: 1,\n",
       "}\n",
       "\n",
       "            );\n",
       "        \n",
       "    \n",
       "            tile_layer_2d725b1e0bfc2a9c99151dd20ad269fb.addTo(map_32e6c8ac6c8a6d868076781ff23c5f2b);\n",
       "        \n",
       "    \n",
       "            var marker_cluster_beda967cbd59c6cb26d6c09515cbd6a6 = L.markerClusterGroup(\n",
       "                {\n",
       "}\n",
       "            );\n",
       "        \n",
       "    \n",
       "            marker_cluster_beda967cbd59c6cb26d6c09515cbd6a6.addTo(map_32e6c8ac6c8a6d868076781ff23c5f2b);\n",
       "        \n",
       "&lt;/script&gt;\n",
       "&lt;/html&gt;\" style=\"position:absolute;width:100%;height:100%;left:0;top:0;border:none !important;\" allowfullscreen webkitallowfullscreen mozallowfullscreen></iframe></div></div>"
      ],
      "text/plain": [
       "<folium.folium.Map at 0x204bc556ea0>"
      ]
     },
     "execution_count": 128,
     "metadata": {},
     "output_type": "execute_result"
    }
   ],
   "source": [
    "import folium\n",
    "from folium.plugins import MarkerCluster\n",
    "\n",
    "location_data = df.dropna(subset=[\"Latitude\", \"Longitude\"])\n",
    "\n",
    "sample_size = min(500, len(location_data))\n",
    "location_sample = location_data.sample(n=sample_size, random_state=1)\n",
    "\n",
    "ev_map = folium.Map(location=[47.5, -120.5], zoom_start=7)\n",
    "\n",
    "marker_cluster = MarkerCluster().add_to(ev_map)\n",
    "\n",
    "for idx, row in location_sample.iterrows():\n",
    "    popup_text = f\"{row['Make']} {row['Model']} ({int(row['Model Year'])})\"\n",
    "    folium.Marker(\n",
    "        location=[row[\"Latitude\"], row[\"Longitude\"]],\n",
    "        popup=popup_text\n",
    "    ).add_to(marker_cluster)\n",
    "\n",
    "ev_map\n"
   ]
  },
  {
   "cell_type": "markdown",
   "id": "e6c0a34e-1d64-4378-a986-ba046b43c79e",
   "metadata": {},
   "source": [
    "## Conclusion\n",
    "\n",
    "In this assignment, we analyzed a dataset of Electric Vehicles (EVs) registered in Washington State. The key steps included:\n",
    "\n",
    "- **Data Cleaning**: Handled missing values in the `Electric Range` and `Base MSRP`, and confirmed there were no duplicate entries. Cleaned GPS coordinates and anonymized VINs.\n",
    "- **Data Exploration**: \n",
    "  - Found that **Tesla** is the most common make, and **Model S** is the most common model.\n",
    "  - **King County** has the highest number of EV registrations.\n",
    "  - EV adoption peaked in **2013 and 2018**.\n",
    "  - Around **67% of EVs** are eligible for CAFV incentives.\n",
    "- **Visualizations**:\n",
    "  - Used bar charts, line plots, pie charts, and a folium map to visualize trends.\n",
    "\n",
    "### Key Takeaways:\n",
    "- Higher-priced EVs generally have longer electric ranges.\n",
    "- Tesla dominates in both range and market share.\n",
    "- There are clear regional patterns in EV adoption, with urban counties leading.\n",
    "- Data science tools like pandas, matplotlib, seaborn, and scikit-learn are powerful for understanding real-world datasets.\n",
    "\n",
    "This analysis demonstrates how data can be used to derive actionable insights into electric vehicle trends and inform policy or business decisions.\n"
   ]
  },
  {
   "cell_type": "code",
   "execution_count": null,
   "id": "8efabc8b-3a90-4aab-bc13-83303cbfac85",
   "metadata": {},
   "outputs": [],
   "source": []
  }
 ],
 "metadata": {
  "kernelspec": {
   "display_name": "Python [conda env:anaconda3] *",
   "language": "python",
   "name": "conda-env-anaconda3-py"
  },
  "language_info": {
   "codemirror_mode": {
    "name": "ipython",
    "version": 3
   },
   "file_extension": ".py",
   "mimetype": "text/x-python",
   "name": "python",
   "nbconvert_exporter": "python",
   "pygments_lexer": "ipython3",
   "version": "3.12.7"
  }
 },
 "nbformat": 4,
 "nbformat_minor": 5
}
